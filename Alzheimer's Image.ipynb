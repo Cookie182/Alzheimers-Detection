{
 "cells": [
  {
   "cell_type": "markdown",
   "id": "a6522ecb",
   "metadata": {},
   "source": [
    "Dataset Link: https://www.kaggle.com/amyjang/alzheimer-mri-model-tensorflow-2-3-data-loading"
   ]
  },
  {
   "cell_type": "code",
   "execution_count": 1,
   "id": "7df9ddc5",
   "metadata": {
    "ExecuteTime": {
     "end_time": "2021-11-16T10:57:41.580206Z",
     "start_time": "2021-11-16T10:57:38.250330Z"
    }
   },
   "outputs": [
    {
     "data": {
      "text/plain": [
       "PhysicalDevice(name='/physical_device:GPU:0', device_type='GPU')"
      ]
     },
     "execution_count": 1,
     "metadata": {},
     "output_type": "execute_result"
    }
   ],
   "source": [
    "import os\n",
    "import tensorflow as tf\n",
    "from tensorflow.keras import layers\n",
    "from tensorflow import keras\n",
    "from tensorflow.keras.layers.experimental import preprocessing\n",
    "from tensorflow.keras.preprocessing.image import ImageDataGenerator\n",
    "import pandas as pd\n",
    "from matplotlib import pyplot as plt\n",
    "import pickle\n",
    "\n",
    "tf.config.experimental.set_memory_growth(tf.config.list_physical_devices('GPU')[0], True)\n",
    "gpu_device = tf.config.list_physical_devices('GPU')[0]\n",
    "gpu_device"
   ]
  },
  {
   "cell_type": "code",
   "execution_count": 2,
   "id": "aec28b35",
   "metadata": {
    "ExecuteTime": {
     "end_time": "2021-11-16T10:57:41.596210Z",
     "start_time": "2021-11-16T10:57:41.582211Z"
    }
   },
   "outputs": [
    {
     "data": {
      "text/plain": [
       "'NVIDIA GeForce GTX 1650 Ti'"
      ]
     },
     "execution_count": 2,
     "metadata": {},
     "output_type": "execute_result"
    }
   ],
   "source": [
    "tf.config.experimental.get_device_details(gpu_device)['device_name']"
   ]
  },
  {
   "cell_type": "code",
   "execution_count": 3,
   "id": "7dc0c734",
   "metadata": {
    "ExecuteTime": {
     "end_time": "2021-11-16T10:57:41.611906Z",
     "start_time": "2021-11-16T10:57:41.598212Z"
    }
   },
   "outputs": [
    {
     "data": {
      "text/plain": [
       "'2.6.0'"
      ]
     },
     "execution_count": 3,
     "metadata": {},
     "output_type": "execute_result"
    }
   ],
   "source": [
    "tf.__version__"
   ]
  },
  {
   "cell_type": "code",
   "execution_count": 4,
   "id": "099e4af7",
   "metadata": {
    "ExecuteTime": {
     "end_time": "2021-11-16T10:57:41.627899Z",
     "start_time": "2021-11-16T10:57:41.613898Z"
    }
   },
   "outputs": [],
   "source": [
    "train_dataset_dir = \".\\\\Alzheimer_s Dataset\\\\train\"\n",
    "test_dataset_dir = \".\\\\Alzheimer_s Dataset\\\\test\"\n",
    "IMG_SIZE = (208, 176)\n",
    "BATCH_SIZE = 16\n",
    "EPOCHS = 100\n",
    "COLOR_MODE = 'grayscale'\n",
    "CHANNELS = 3 if COLOR_MODE == 'rgb' else 1\n",
    "N_LABELS = len(os.listdir(train_dataset_dir))\n",
    "DTYPE = tf.float32"
   ]
  },
  {
   "cell_type": "code",
   "execution_count": 5,
   "id": "9599d932",
   "metadata": {
    "ExecuteTime": {
     "end_time": "2021-11-16T10:57:41.643903Z",
     "start_time": "2021-11-16T10:57:41.629901Z"
    }
   },
   "outputs": [],
   "source": [
    "train_datagen = ImageDataGenerator(data_format='channels_last',\n",
    "                                   validation_split=0.2,\n",
    "                                   rescale=1.0 / 255.0,\n",
    "                                   dtype=DTYPE)\n",
    "\n",
    "test_datagen = ImageDataGenerator(data_format='channels_last',\n",
    "                                  validation_split=0,\n",
    "                                  rescale=1.0 / 255.0,\n",
    "                                  dtype=DTYPE)"
   ]
  },
  {
   "cell_type": "code",
   "execution_count": 6,
   "id": "fa4da4e3",
   "metadata": {
    "ExecuteTime": {
     "end_time": "2021-11-16T10:57:42.070010Z",
     "start_time": "2021-11-16T10:57:41.645902Z"
    }
   },
   "outputs": [
    {
     "name": "stdout",
     "output_type": "stream",
     "text": [
      "Found 4098 images belonging to 4 classes.\n"
     ]
    }
   ],
   "source": [
    "train_generator = train_datagen.flow_from_directory(directory=train_dataset_dir,\n",
    "                                                    target_size=IMG_SIZE,\n",
    "                                                    color_mode=COLOR_MODE,\n",
    "                                                    class_mode='categorical',\n",
    "                                                    shuffle=True,\n",
    "                                                    subset='training',\n",
    "                                                    batch_size=BATCH_SIZE)"
   ]
  },
  {
   "cell_type": "code",
   "execution_count": 7,
   "id": "236ccb8c",
   "metadata": {
    "ExecuteTime": {
     "end_time": "2021-11-16T10:57:42.149035Z",
     "start_time": "2021-11-16T10:57:42.072011Z"
    }
   },
   "outputs": [
    {
     "name": "stdout",
     "output_type": "stream",
     "text": [
      "Found 1023 images belonging to 4 classes.\n"
     ]
    }
   ],
   "source": [
    "val_generator = train_datagen.flow_from_directory(directory=train_dataset_dir,\n",
    "                                                  target_size=IMG_SIZE,\n",
    "                                                  color_mode=COLOR_MODE,\n",
    "                                                  class_mode='categorical',\n",
    "                                                  shuffle=True,\n",
    "                                                  subset='validation',\n",
    "                                                  batch_size=BATCH_SIZE)"
   ]
  },
  {
   "cell_type": "code",
   "execution_count": 8,
   "id": "9f98c053",
   "metadata": {
    "ExecuteTime": {
     "end_time": "2021-11-16T10:57:42.243824Z",
     "start_time": "2021-11-16T10:57:42.151037Z"
    }
   },
   "outputs": [
    {
     "name": "stdout",
     "output_type": "stream",
     "text": [
      "Found 1279 images belonging to 4 classes.\n"
     ]
    }
   ],
   "source": [
    "test_generator = test_datagen.flow_from_directory(directory=test_dataset_dir,\n",
    "                                                  target_size=IMG_SIZE,\n",
    "                                                  color_mode=COLOR_MODE,\n",
    "                                                  class_mode='categorical',\n",
    "                                                  shuffle=True,\n",
    "                                                  subset='training',\n",
    "                                                  batch_size=BATCH_SIZE)"
   ]
  },
  {
   "cell_type": "code",
   "execution_count": 9,
   "id": "c64b17ff",
   "metadata": {
    "ExecuteTime": {
     "end_time": "2021-11-16T10:57:42.259826Z",
     "start_time": "2021-11-16T10:57:42.245824Z"
    }
   },
   "outputs": [],
   "source": [
    "@keras.utils.register_keras_serializable()\n",
    "class ConvBlock(layers.Layer):\n",
    "    def __init__(self, conv_filters, conv_kernel_size, **kwargs):\n",
    "        super(ConvBlock, self).__init__()\n",
    "        self.conv_filters = conv_filters\n",
    "        self.conv_kernel_size = conv_kernel_size\n",
    "\n",
    "        self.conv1 = layers.Conv2D(self.conv_filters, self.conv_kernel_size, padding='same', activation=layers.LeakyReLU())\n",
    "        self.conv2 = layers.Conv2D(self.conv_filters, self.conv_kernel_size, padding='same', activation=layers.LeakyReLU())\n",
    "        self.bn = layers.BatchNormalization()\n",
    "        self.maxpool = layers.MaxPooling2D(pool_size=2, strides=2)\n",
    "        \n",
    "    def get_config(self):\n",
    "        config = super().get_config().copy()\n",
    "        config.update({\n",
    "            'conv_filters': self.conv_filters,\n",
    "            'conv_kernel_size': self.conv_kernel_size\n",
    "        })\n",
    "        return config\n",
    "    \n",
    "    @tf.function()\n",
    "    def call(self, tensor, training=False):\n",
    "        tensor = self.conv1(tensor)\n",
    "        tensor = self.conv2(tensor)\n",
    "        tensor = self.bn(tensor, training=training)\n",
    "        tensor = self.maxpool(tensor)\n",
    "        return tensor"
   ]
  },
  {
   "cell_type": "code",
   "execution_count": 10,
   "id": "c3dccaea",
   "metadata": {
    "ExecuteTime": {
     "end_time": "2021-11-16T10:57:42.275831Z",
     "start_time": "2021-11-16T10:57:42.261827Z"
    }
   },
   "outputs": [],
   "source": [
    "@keras.utils.register_keras_serializable()\n",
    "class DenseBlock(layers.Layer):\n",
    "    def __init__(self, units, dropout_rate=0, **kwargs):\n",
    "        super(DenseBlock, self).__init__()\n",
    "        self.units = units\n",
    "        self.dropout_rate = dropout_rate\n",
    "\n",
    "        self.dense = layers.Dense(self.units, activation=layers.LeakyReLU())\n",
    "        self.bn = layers.BatchNormalization()\n",
    "        if self.dropout_rate != 0:\n",
    "            self.dropout = layers.Dropout(self.dropout_rate)\n",
    "            \n",
    "    def get_config(self):\n",
    "        config = super().get_config().copy()\n",
    "        config.update({\n",
    "            'units': self.units,\n",
    "            'dropout_rate': self.dropout_rate\n",
    "        })\n",
    "        return config\n",
    "    \n",
    "    @tf.function()\n",
    "    def call(self, tensor):\n",
    "        tensor = self.dense(tensor)\n",
    "        tensor = self.bn(tensor)\n",
    "        if self.dropout_rate != 0:\n",
    "            tensor = self.dropout(tensor)\n",
    "        return tensor"
   ]
  },
  {
   "cell_type": "code",
   "execution_count": 11,
   "id": "96ee332f",
   "metadata": {
    "ExecuteTime": {
     "end_time": "2021-11-16T10:57:42.291833Z",
     "start_time": "2021-11-16T10:57:42.276838Z"
    }
   },
   "outputs": [],
   "source": [
    "class Model(keras.Model):\n",
    "    def __init__(self, n_labels=N_LABELS):\n",
    "        super(Model, self).__init__()\n",
    "\n",
    "        self.convblock1 = ConvBlock(32, 3)\n",
    "        self.convblock2 = ConvBlock(64, 3)\n",
    "        self.convblock3 = ConvBlock(128, 3)\n",
    "        self.convblock4 = ConvBlock(256, 3)\n",
    "        self.convblock5 = ConvBlock(256, 3)\n",
    "        self.dropout = layers.Dropout(0.3)\n",
    "        self.flatten = layers.Flatten()\n",
    "        self.dense1 = DenseBlock(512, 0.5)\n",
    "        self.dense2 = DenseBlock(256, 0.3)\n",
    "        self.dense3 = DenseBlock(128, 0.2)\n",
    "        self.outputs = layers.Dense(n_labels)\n",
    "\n",
    "    @tf.function\n",
    "    def call(self, tensor):\n",
    "        tensor = self.convblock1(tensor)\n",
    "        tensor = self.convblock2(tensor)\n",
    "        tensor = self.convblock3(tensor)\n",
    "        tensor = self.convblock4(tensor)\n",
    "        tensor = self.convblock5(tensor)\n",
    "        tensor = self.dropout(tensor)\n",
    "        tensor = self.flatten(tensor)\n",
    "        tensor = self.dense1(tensor)\n",
    "        tensor = self.dense2(tensor)\n",
    "        tensor = self.dense3(tensor)\n",
    "        tensor = self.outputs(tensor)\n",
    "        return tensor"
   ]
  },
  {
   "cell_type": "code",
   "execution_count": 12,
   "id": "a8f08b62",
   "metadata": {
    "ExecuteTime": {
     "end_time": "2021-11-16T10:57:44.099138Z",
     "start_time": "2021-11-16T10:57:42.293834Z"
    }
   },
   "outputs": [],
   "source": [
    "sequential_layers = [layers.InputLayer(input_shape=(*IMG_SIZE, CHANNELS))]\n",
    "sequential_layers.extend(Model(n_labels=N_LABELS).layers)\n",
    "model = keras.Sequential(sequential_layers)\n",
    "model_name = \"Alzheimers_Model\"\n",
    "\n",
    "lr_scheduler = keras.optimizers.schedules.InverseTimeDecay(1e-4, decay_steps=len(train_generator), decay_rate=0.9)\n",
    "\n",
    "monitor = 'val_acc'\n",
    "early_stopping = keras.callbacks.EarlyStopping(monitor=monitor, patience=10, restore_best_weights=True)\n",
    "best_checkpoint = keras.callbacks.ModelCheckpoint(filepath=f\"{model_name}.h5\",\n",
    "                                                          monitor=monitor,\n",
    "                                                          save_best_only=True,\n",
    "                                                          save_freq='epoch',\n",
    "                                                          verbose=1)\n",
    "callbacks = [early_stopping, best_checkpoint]\n",
    "\n",
    "keras.utils.plot_model(model, to_file=f\"{model_name} Structure.png\", show_shapes=True)\n",
    "\n",
    "model.compile(loss=keras.losses.CategoricalCrossentropy(from_logits=True),\n",
    "              optimizer=keras.optimizers.Adam(learning_rate=lr_scheduler),\n",
    "              metrics=[keras.metrics.CategoricalAccuracy(name='acc')])"
   ]
  },
  {
   "cell_type": "code",
   "execution_count": 13,
   "id": "c2a0362d",
   "metadata": {
    "ExecuteTime": {
     "end_time": "2021-11-16T10:57:44.352183Z",
     "start_time": "2021-11-16T10:57:44.101139Z"
    }
   },
   "outputs": [
    {
     "data": {
      "image/png": "[encoded data removed]",
      "text/plain": [
       "<Figure size 432x288 with 1 Axes>"
      ]
     },
     "metadata": {
      "needs_background": "light"
     },
     "output_type": "display_data"
    }
   ],
   "source": [
    "plt.figure()\n",
    "plt.plot([lr_scheduler(step=x) for x in range(1, EPOCHS+1)])\n",
    "plt.title(\"Learning Rate after every epoch\")\n",
    "plt.tight_layout()\n",
    "plt.show()"
   ]
  },
  {
   "cell_type": "code",
   "execution_count": 14,
   "id": "bc88e7d4",
   "metadata": {
    "ExecuteTime": {
     "end_time": "2021-11-16T10:57:44.368186Z",
     "start_time": "2021-11-16T10:57:44.354183Z"
    }
   },
   "outputs": [
    {
     "name": "stdout",
     "output_type": "stream",
     "text": [
      "Model: \"sequential\"\n",
      "_________________________________________________________________\n",
      "Layer (type)                 Output Shape              Param #   \n",
      "=================================================================\n",
      "conv_block (ConvBlock)       (None, 104, 88, 32)       9696      \n",
      "_________________________________________________________________\n",
      "conv_block_1 (ConvBlock)     (None, 52, 44, 64)        55680     \n",
      "_________________________________________________________________\n",
      "conv_block_2 (ConvBlock)     (None, 26, 22, 128)       221952    \n",
      "_________________________________________________________________\n",
      "conv_block_3 (ConvBlock)     (None, 13, 11, 256)       886272    \n",
      "_________________________________________________________________\n",
      "conv_block_4 (ConvBlock)     (None, 6, 5, 256)         1181184   \n",
      "_________________________________________________________________\n",
      "dropout (Dropout)            (None, 6, 5, 256)         0         \n",
      "_________________________________________________________________\n",
      "flatten (Flatten)            (None, 7680)              0         \n",
      "_________________________________________________________________\n",
      "dense_block (DenseBlock)     (None, 512)               3934720   \n",
      "_________________________________________________________________\n",
      "dense_block_1 (DenseBlock)   (None, 256)               132352    \n",
      "_________________________________________________________________\n",
      "dense_block_2 (DenseBlock)   (None, 128)               33408     \n",
      "_________________________________________________________________\n",
      "dense_3 (Dense)              (None, 4)                 516       \n",
      "=================================================================\n",
      "Total params: 6,455,780\n",
      "Trainable params: 6,452,516\n",
      "Non-trainable params: 3,264\n",
      "_________________________________________________________________\n"
     ]
    }
   ],
   "source": [
    "model.summary()"
   ]
  },
  {
   "cell_type": "code",
   "execution_count": 15,
   "id": "fe9f3afa",
   "metadata": {
    "ExecuteTime": {
     "end_time": "2021-11-16T11:22:21.859352Z",
     "start_time": "2021-11-16T10:57:44.371188Z"
    },
    "scrolled": false
   },
   "outputs": [
    {
     "name": "stdout",
     "output_type": "stream",
     "text": [
      "Epoch 1/100\n",
      "257/257 [==============================] - 154s 565ms/step - loss: 0.9681 - acc: 0.5976 - val_loss: 1.4899 - val_acc: 0.5005\n",
      "\n",
      "Epoch 00001: val_acc improved from -inf to 0.50049, saving model to Alzheimers_Model.h5\n",
      "Epoch 2/100\n",
      "257/257 [==============================] - 46s 178ms/step - loss: 0.5375 - acc: 0.7826 - val_loss: 1.2915 - val_acc: 0.5640\n",
      "\n",
      "Epoch 00002: val_acc improved from 0.50049 to 0.56403, saving model to Alzheimers_Model.h5\n",
      "Epoch 3/100\n",
      "257/257 [==============================] - 31s 122ms/step - loss: 0.2191 - acc: 0.9256 - val_loss: 1.1684 - val_acc: 0.5885\n",
      "\n",
      "Epoch 00003: val_acc improved from 0.56403 to 0.58847, saving model to Alzheimers_Model.h5\n",
      "Epoch 4/100\n",
      "257/257 [==============================] - 31s 121ms/step - loss: 0.0794 - acc: 0.9768 - val_loss: 1.1010 - val_acc: 0.6442\n",
      "\n",
      "Epoch 00004: val_acc improved from 0.58847 to 0.64418, saving model to Alzheimers_Model.h5\n",
      "Epoch 5/100\n",
      "257/257 [==============================] - 30s 117ms/step - loss: 0.0276 - acc: 0.9951 - val_loss: 0.8480 - val_acc: 0.7058\n",
      "\n",
      "Epoch 00005: val_acc improved from 0.64418 to 0.70577, saving model to Alzheimers_Model.h5\n",
      "Epoch 6/100\n",
      "257/257 [==============================] - 30s 116ms/step - loss: 0.0182 - acc: 0.9961 - val_loss: 0.7668 - val_acc: 0.7458\n",
      "\n",
      "Epoch 00006: val_acc improved from 0.70577 to 0.74585, saving model to Alzheimers_Model.h5\n",
      "Epoch 7/100\n",
      "257/257 [==============================] - 32s 123ms/step - loss: 0.0116 - acc: 0.9978 - val_loss: 0.6661 - val_acc: 0.7693\n",
      "\n",
      "Epoch 00007: val_acc improved from 0.74585 to 0.76931, saving model to Alzheimers_Model.h5\n",
      "Epoch 8/100\n",
      "257/257 [==============================] - 30s 118ms/step - loss: 0.0125 - acc: 0.9963 - val_loss: 0.8126 - val_acc: 0.7380\n",
      "\n",
      "Epoch 00008: val_acc did not improve from 0.76931\n",
      "Epoch 9/100\n",
      "257/257 [==============================] - 30s 116ms/step - loss: 0.0046 - acc: 0.9998 - val_loss: 0.7772 - val_acc: 0.7537\n",
      "\n",
      "Epoch 00009: val_acc did not improve from 0.76931\n",
      "Epoch 10/100\n",
      "257/257 [==============================] - 33s 130ms/step - loss: 0.0043 - acc: 0.9993 - val_loss: 0.7931 - val_acc: 0.7478\n",
      "\n",
      "Epoch 00010: val_acc did not improve from 0.76931\n",
      "Epoch 11/100\n",
      "257/257 [==============================] - 32s 126ms/step - loss: 0.0030 - acc: 0.9998 - val_loss: 0.7477 - val_acc: 0.7801\n",
      "\n",
      "Epoch 00011: val_acc improved from 0.76931 to 0.78006, saving model to Alzheimers_Model.h5\n",
      "Epoch 12/100\n",
      "257/257 [==============================] - 32s 125ms/step - loss: 0.0043 - acc: 0.9990 - val_loss: 0.7836 - val_acc: 0.7498\n",
      "\n",
      "Epoch 00012: val_acc did not improve from 0.78006\n",
      "Epoch 13/100\n",
      "257/257 [==============================] - 33s 129ms/step - loss: 0.0027 - acc: 0.9998 - val_loss: 0.8143 - val_acc: 0.7664\n",
      "\n",
      "Epoch 00013: val_acc did not improve from 0.78006\n",
      "Epoch 14/100\n",
      "257/257 [==============================] - 31s 119ms/step - loss: 0.0018 - acc: 1.0000 - val_loss: 0.8017 - val_acc: 0.7605\n",
      "\n",
      "Epoch 00014: val_acc did not improve from 0.78006\n",
      "Epoch 15/100\n",
      "257/257 [==============================] - 32s 126ms/step - loss: 0.0024 - acc: 0.9998 - val_loss: 1.1394 - val_acc: 0.7116\n",
      "\n",
      "Epoch 00015: val_acc did not improve from 0.78006\n",
      "Epoch 16/100\n",
      "257/257 [==============================] - 35s 137ms/step - loss: 0.0028 - acc: 0.9995 - val_loss: 0.7787 - val_acc: 0.7664\n",
      "\n",
      "Epoch 00016: val_acc did not improve from 0.78006\n",
      "Epoch 17/100\n",
      "257/257 [==============================] - 33s 130ms/step - loss: 0.0024 - acc: 0.9995 - val_loss: 0.8239 - val_acc: 0.7517\n",
      "\n",
      "Epoch 00017: val_acc did not improve from 0.78006\n",
      "Epoch 18/100\n",
      "257/257 [==============================] - 37s 143ms/step - loss: 0.0016 - acc: 1.0000 - val_loss: 0.7506 - val_acc: 0.7849\n",
      "\n",
      "Epoch 00018: val_acc improved from 0.78006 to 0.78495, saving model to Alzheimers_Model.h5\n",
      "Epoch 19/100\n",
      "257/257 [==============================] - 42s 164ms/step - loss: 0.0011 - acc: 1.0000 - val_loss: 0.8208 - val_acc: 0.7674\n",
      "\n",
      "Epoch 00019: val_acc did not improve from 0.78495\n",
      "Epoch 20/100\n",
      "257/257 [==============================] - 32s 126ms/step - loss: 0.0017 - acc: 0.9995 - val_loss: 0.7749 - val_acc: 0.7879\n",
      "\n",
      "Epoch 00020: val_acc improved from 0.78495 to 0.78788, saving model to Alzheimers_Model.h5\n",
      "Epoch 21/100\n",
      "257/257 [==============================] - 38s 147ms/step - loss: 0.0011 - acc: 1.0000 - val_loss: 0.7532 - val_acc: 0.7869\n",
      "\n",
      "Epoch 00021: val_acc did not improve from 0.78788\n",
      "Epoch 22/100\n",
      "257/257 [==============================] - 33s 128ms/step - loss: 7.7005e-04 - acc: 1.0000 - val_loss: 0.7763 - val_acc: 0.7781\n",
      "\n",
      "Epoch 00022: val_acc did not improve from 0.78788\n",
      "Epoch 23/100\n",
      "257/257 [==============================] - 30s 118ms/step - loss: 4.4511e-04 - acc: 1.0000 - val_loss: 0.7841 - val_acc: 0.7791\n",
      "\n",
      "Epoch 00023: val_acc did not improve from 0.78788\n",
      "Epoch 24/100\n",
      "257/257 [==============================] - 33s 129ms/step - loss: 5.4264e-04 - acc: 1.0000 - val_loss: 1.0241 - val_acc: 0.7546\n",
      "\n",
      "Epoch 00024: val_acc did not improve from 0.78788\n",
      "Epoch 25/100\n",
      "257/257 [==============================] - 41s 161ms/step - loss: 5.8407e-04 - acc: 1.0000 - val_loss: 0.8575 - val_acc: 0.7771\n",
      "\n",
      "Epoch 00025: val_acc did not improve from 0.78788\n",
      "Epoch 26/100\n",
      "257/257 [==============================] - 34s 131ms/step - loss: 3.5105e-04 - acc: 1.0000 - val_loss: 0.8352 - val_acc: 0.7771\n",
      "\n",
      "Epoch 00026: val_acc did not improve from 0.78788\n",
      "Epoch 27/100\n",
      "257/257 [==============================] - 33s 126ms/step - loss: 5.7072e-04 - acc: 1.0000 - val_loss: 0.7608 - val_acc: 0.7947\n",
      "\n",
      "Epoch 00027: val_acc improved from 0.78788 to 0.79472, saving model to Alzheimers_Model.h5\n",
      "Epoch 28/100\n",
      "257/257 [==============================] - 31s 121ms/step - loss: 6.1429e-04 - acc: 1.0000 - val_loss: 0.7068 - val_acc: 0.8035\n",
      "\n",
      "Epoch 00028: val_acc improved from 0.79472 to 0.80352, saving model to Alzheimers_Model.h5\n",
      "Epoch 29/100\n",
      "257/257 [==============================] - 35s 136ms/step - loss: 3.4982e-04 - acc: 1.0000 - val_loss: 0.7384 - val_acc: 0.8016\n",
      "\n",
      "Epoch 00029: val_acc did not improve from 0.80352\n",
      "Epoch 30/100\n",
      "257/257 [==============================] - 36s 139ms/step - loss: 3.3138e-04 - acc: 1.0000 - val_loss: 0.7221 - val_acc: 0.8094\n",
      "\n",
      "Epoch 00030: val_acc improved from 0.80352 to 0.80938, saving model to Alzheimers_Model.h5\n",
      "Epoch 31/100\n",
      "257/257 [==============================] - 33s 129ms/step - loss: 6.9041e-04 - acc: 1.0000 - val_loss: 0.7309 - val_acc: 0.8084\n",
      "\n",
      "Epoch 00031: val_acc did not improve from 0.80938\n",
      "Epoch 32/100\n",
      "257/257 [==============================] - 30s 119ms/step - loss: 2.7451e-04 - acc: 1.0000 - val_loss: 0.7682 - val_acc: 0.7967\n",
      "\n",
      "Epoch 00032: val_acc did not improve from 0.80938\n",
      "Epoch 33/100\n",
      "257/257 [==============================] - 30s 119ms/step - loss: 5.1170e-04 - acc: 1.0000 - val_loss: 0.7434 - val_acc: 0.7957\n",
      "\n",
      "Epoch 00033: val_acc did not improve from 0.80938\n",
      "Epoch 34/100\n",
      "257/257 [==============================] - 31s 119ms/step - loss: 9.2258e-04 - acc: 0.9998 - val_loss: 0.8605 - val_acc: 0.7820\n",
      "\n",
      "Epoch 00034: val_acc did not improve from 0.80938\n",
      "Epoch 35/100\n",
      "257/257 [==============================] - 40s 157ms/step - loss: 3.9092e-04 - acc: 1.0000 - val_loss: 0.8011 - val_acc: 0.7820\n",
      "\n",
      "Epoch 00035: val_acc did not improve from 0.80938\n",
      "Epoch 36/100\n",
      "257/257 [==============================] - 35s 137ms/step - loss: 4.7157e-04 - acc: 1.0000 - val_loss: 0.7581 - val_acc: 0.7967\n",
      "\n",
      "Epoch 00036: val_acc did not improve from 0.80938\n",
      "Epoch 37/100\n",
      "257/257 [==============================] - 39s 150ms/step - loss: 2.1977e-04 - acc: 1.0000 - val_loss: 0.8536 - val_acc: 0.7713\n",
      "\n",
      "Epoch 00037: val_acc did not improve from 0.80938\n",
      "Epoch 38/100\n",
      "257/257 [==============================] - 31s 119ms/step - loss: 2.3365e-04 - acc: 1.0000 - val_loss: 0.7441 - val_acc: 0.8016\n",
      "\n",
      "Epoch 00038: val_acc did not improve from 0.80938\n",
      "Epoch 39/100\n",
      "257/257 [==============================] - 31s 122ms/step - loss: 3.4086e-04 - acc: 1.0000 - val_loss: 0.8587 - val_acc: 0.7771\n",
      "\n",
      "Epoch 00039: val_acc did not improve from 0.80938\n",
      "Epoch 40/100\n",
      "257/257 [==============================] - 31s 122ms/step - loss: 2.3855e-04 - acc: 1.0000 - val_loss: 0.7391 - val_acc: 0.8055\n",
      "\n",
      "Epoch 00040: val_acc did not improve from 0.80938\n"
     ]
    }
   ],
   "source": [
    "train = model.fit(train_generator,\n",
    "                  epochs=EPOCHS,\n",
    "                  verbose=1,\n",
    "                  workers=-1,\n",
    "                  use_multiprocessing=True,\n",
    "                  validation_data=val_generator,\n",
    "                  callbacks=callbacks)"
   ]
  },
  {
   "cell_type": "code",
   "execution_count": 16,
   "id": "eee72c43",
   "metadata": {
    "ExecuteTime": {
     "end_time": "2021-11-16T11:22:22.803091Z",
     "start_time": "2021-11-16T11:22:21.866354Z"
    }
   },
   "outputs": [],
   "source": [
    "model = keras.models.load_model(f\"{model_name}.h5\")"
   ]
  },
  {
   "cell_type": "code",
   "execution_count": 17,
   "id": "77e24a72",
   "metadata": {
    "ExecuteTime": {
     "end_time": "2021-11-16T11:22:41.617524Z",
     "start_time": "2021-11-16T11:22:22.805100Z"
    }
   },
   "outputs": [
    {
     "name": "stdout",
     "output_type": "stream",
     "text": [
      "80/80 [==============================] - 17s 210ms/step - loss: 1.0766 - acc: 0.7240\n"
     ]
    }
   ],
   "source": [
    "test = model.evaluate(test_generator,\n",
    "                      workers=-1,\n",
    "                      use_multiprocessing=True,\n",
    "                      verbose=1)"
   ]
  },
  {
   "cell_type": "code",
   "execution_count": 18,
   "id": "b783dedc",
   "metadata": {
    "ExecuteTime": {
     "end_time": "2021-11-16T11:22:41.648514Z",
     "start_time": "2021-11-16T11:22:41.619506Z"
    }
   },
   "outputs": [
    {
     "data": {
      "text/html": [
       "<div>\n",
       "<style scoped>\n",
       "    .dataframe tbody tr th:only-of-type {\n",
       "        vertical-align: middle;\n",
       "    }\n",
       "\n",
       "    .dataframe tbody tr th {\n",
       "        vertical-align: top;\n",
       "    }\n",
       "\n",
       "    .dataframe thead th {\n",
       "        text-align: right;\n",
       "    }\n",
       "</style>\n",
       "<table border=\"1\" class=\"dataframe\">\n",
       "  <thead>\n",
       "    <tr style=\"text-align: right;\">\n",
       "      <th></th>\n",
       "      <th>loss</th>\n",
       "      <th>acc</th>\n",
       "      <th>val_loss</th>\n",
       "      <th>val_acc</th>\n",
       "    </tr>\n",
       "  </thead>\n",
       "  <tbody>\n",
       "    <tr>\n",
       "      <th>0</th>\n",
       "      <td>0.968103</td>\n",
       "      <td>0.597609</td>\n",
       "      <td>1.489852</td>\n",
       "      <td>0.500489</td>\n",
       "    </tr>\n",
       "    <tr>\n",
       "      <th>1</th>\n",
       "      <td>0.537469</td>\n",
       "      <td>0.782577</td>\n",
       "      <td>1.291492</td>\n",
       "      <td>0.564027</td>\n",
       "    </tr>\n",
       "    <tr>\n",
       "      <th>2</th>\n",
       "      <td>0.219117</td>\n",
       "      <td>0.925573</td>\n",
       "      <td>1.168393</td>\n",
       "      <td>0.588465</td>\n",
       "    </tr>\n",
       "    <tr>\n",
       "      <th>3</th>\n",
       "      <td>0.079379</td>\n",
       "      <td>0.976818</td>\n",
       "      <td>1.100959</td>\n",
       "      <td>0.644184</td>\n",
       "    </tr>\n",
       "    <tr>\n",
       "      <th>4</th>\n",
       "      <td>0.027586</td>\n",
       "      <td>0.995120</td>\n",
       "      <td>0.847954</td>\n",
       "      <td>0.705767</td>\n",
       "    </tr>\n",
       "  </tbody>\n",
       "</table>\n",
       "</div>"
      ],
      "text/plain": [
       "       loss       acc  val_loss   val_acc\n",
       "0  0.968103  0.597609  1.489852  0.500489\n",
       "1  0.537469  0.782577  1.291492  0.564027\n",
       "2  0.219117  0.925573  1.168393  0.588465\n",
       "3  0.079379  0.976818  1.100959  0.644184\n",
       "4  0.027586  0.995120  0.847954  0.705767"
      ]
     },
     "execution_count": 18,
     "metadata": {},
     "output_type": "execute_result"
    }
   ],
   "source": [
    "train_history = pd.DataFrame(train.history)\n",
    "train_history.head()"
   ]
  },
  {
   "cell_type": "code",
   "execution_count": 19,
   "id": "995f2ac8",
   "metadata": {
    "ExecuteTime": {
     "end_time": "2021-11-16T11:22:41.950580Z",
     "start_time": "2021-11-16T11:22:41.650526Z"
    }
   },
   "outputs": [
    {
     "data": {
      "image/png": "[encoded data removed]",
      "text/plain": [
       "<Figure size 576x432 with 2 Axes>"
      ]
     },
     "metadata": {
      "needs_background": "light"
     },
     "output_type": "display_data"
    }
   ],
   "source": [
    "fig, ax = plt.subplots(2, 1, figsize=(8, 6))\n",
    "ax[0].plot(train_history['acc'], label='acc')\n",
    "ax[0].plot(train_history['val_acc'], label='val_acc')\n",
    "ax[0].fill_between(x=train_history.index, y1=train_history['acc'], y2=train_history['val_acc'], alpha=0.15)\n",
    "ax[0].axhline(test[1], color='black', label='test acc', linestyle='--')\n",
    "ax[0].legend(loc='best')\n",
    "ax[0].margins(x=0.01, y=0.01)\n",
    "ax[0].set_title('accuracy per epoch during training')\n",
    "\n",
    "ax[1].plot(train_history['loss'], label='loss')\n",
    "ax[1].plot(train_history['val_loss'], label='val_loss')\n",
    "ax[1].fill_between(x=train_history.index, y1=train_history['loss'], y2=train_history['val_loss'], alpha=0.15)\n",
    "ax[1].axhline(test[0], color='black', label='test loss', linestyle='--')\n",
    "ax[1].legend(loc='best')\n",
    "ax[1].margins(x=0.01, y=0.01)\n",
    "ax[1].set_title('loss per epoch during training')\n",
    "\n",
    "plt.suptitle(f\"Test stats:\\nLoss: {round(test[0], 4)} \\nAcc: {round(test[1], 4)}\")\n",
    "plt.tight_layout()\n",
    "plt.show()"
   ]
  }
 ],
 "metadata": {
  "kernelspec": {
   "display_name": "Python 3 (ipykernel)",
   "language": "python",
   "name": "python3"
  },
  "language_info": {
   "codemirror_mode": {
    "name": "ipython",
    "version": 3
   },
   "file_extension": ".py",
   "mimetype": "text/x-python",
   "name": "python",
   "nbconvert_exporter": "python",
   "pygments_lexer": "ipython3",
   "version": "3.9.7"
  },
  "toc": {
   "base_numbering": 1,
   "nav_menu": {},
   "number_sections": true,
   "sideBar": true,
   "skip_h1_title": false,
   "title_cell": "Table of Contents",
   "title_sidebar": "Contents",
   "toc_cell": false,
   "toc_position": {},
   "toc_section_display": true,
   "toc_window_display": false
  }
 },
 "nbformat": 4,
 "nbformat_minor": 5
}
