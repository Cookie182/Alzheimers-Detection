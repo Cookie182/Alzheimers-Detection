{
 "cells": [
  {
   "cell_type": "markdown",
   "id": "a6522ecb",
   "metadata": {},
   "source": [
    "Dataset Link: https://www.kaggle.com/amyjang/alzheimer-mri-model-tensorflow-2-3-data-loading"
   ]
  },
  {
   "cell_type": "code",
   "execution_count": 1,
   "id": "7df9ddc5",
   "metadata": {
    "ExecuteTime": {
     "end_time": "2021-11-17T08:14:21.894376Z",
     "start_time": "2021-11-17T08:14:18.145982Z"
    }
   },
   "outputs": [
    {
     "data": {
      "text/plain": [
       "PhysicalDevice(name='/physical_device:GPU:0', device_type='GPU')"
      ]
     },
     "execution_count": 1,
     "metadata": {},
     "output_type": "execute_result"
    }
   ],
   "source": [
    "import os\n",
    "import tensorflow as tf\n",
    "from tensorflow.keras import layers\n",
    "from tensorflow import keras\n",
    "from tensorflow.keras.layers.experimental import preprocessing\n",
    "from tensorflow.keras.preprocessing.image import ImageDataGenerator\n",
    "import pandas as pd\n",
    "from matplotlib import pyplot as plt\n",
    "import pickle\n",
    "\n",
    "tf.config.experimental.set_memory_growth(tf.config.list_physical_devices('GPU')[0], True)\n",
    "gpu_device = tf.config.list_physical_devices('GPU')[0]\n",
    "gpu_device"
   ]
  },
  {
   "cell_type": "code",
   "execution_count": 2,
   "id": "aec28b35",
   "metadata": {
    "ExecuteTime": {
     "end_time": "2021-11-17T08:14:21.906575Z",
     "start_time": "2021-11-17T08:14:21.894376Z"
    }
   },
   "outputs": [
    {
     "data": {
      "text/plain": [
       "'NVIDIA GeForce GTX 1650 Ti'"
      ]
     },
     "execution_count": 2,
     "metadata": {},
     "output_type": "execute_result"
    }
   ],
   "source": [
    "tf.config.experimental.get_device_details(gpu_device)['device_name']"
   ]
  },
  {
   "cell_type": "code",
   "execution_count": 3,
   "id": "7dc0c734",
   "metadata": {
    "ExecuteTime": {
     "end_time": "2021-11-17T08:14:21.922013Z",
     "start_time": "2021-11-17T08:14:21.906575Z"
    }
   },
   "outputs": [
    {
     "data": {
      "text/plain": [
       "'2.6.0'"
      ]
     },
     "execution_count": 3,
     "metadata": {},
     "output_type": "execute_result"
    }
   ],
   "source": [
    "tf.__version__"
   ]
  },
  {
   "cell_type": "code",
   "execution_count": 4,
   "id": "099e4af7",
   "metadata": {
    "ExecuteTime": {
     "end_time": "2021-11-17T08:14:21.938018Z",
     "start_time": "2021-11-17T08:14:21.923015Z"
    }
   },
   "outputs": [],
   "source": [
    "train_dataset_dir = \".\\\\Alzheimer_s Dataset\\\\train\"\n",
    "test_dataset_dir = \".\\\\Alzheimer_s Dataset\\\\test\"\n",
    "IMG_SIZE = (208, 176)\n",
    "BATCH_SIZE = 16\n",
    "EPOCHS = 500\n",
    "PATIENCE = 20\n",
    "COLOR_MODE = 'grayscale'\n",
    "CHANNELS = 3 if COLOR_MODE == 'rgb' else 1\n",
    "N_LABELS = len(os.listdir(train_dataset_dir))\n",
    "DTYPE = tf.float32\n",
    "MODEL_NAME = \"Alzheimers_Model_2\""
   ]
  },
  {
   "cell_type": "code",
   "execution_count": 5,
   "id": "9599d932",
   "metadata": {
    "ExecuteTime": {
     "end_time": "2021-11-17T08:14:21.954021Z",
     "start_time": "2021-11-17T08:14:21.940017Z"
    }
   },
   "outputs": [],
   "source": [
    "train_datagen = ImageDataGenerator(data_format='channels_last',\n",
    "                                   validation_split=0.2,\n",
    "                                   dtype=DTYPE)\n",
    "\n",
    "test_datagen = ImageDataGenerator(data_format='channels_last',\n",
    "                                  validation_split=0,\n",
    "                                  dtype=DTYPE)"
   ]
  },
  {
   "cell_type": "code",
   "execution_count": 6,
   "id": "fa4da4e3",
   "metadata": {
    "ExecuteTime": {
     "end_time": "2021-11-17T08:14:22.169446Z",
     "start_time": "2021-11-17T08:14:21.956021Z"
    }
   },
   "outputs": [
    {
     "name": "stdout",
     "output_type": "stream",
     "text": [
      "Found 4098 images belonging to 4 classes.\n"
     ]
    }
   ],
   "source": [
    "train_generator = train_datagen.flow_from_directory(directory=train_dataset_dir,\n",
    "                                                    target_size=IMG_SIZE,\n",
    "                                                    color_mode=COLOR_MODE,\n",
    "                                                    class_mode='categorical',\n",
    "                                                    shuffle=True,\n",
    "                                                    subset='training',\n",
    "                                                    batch_size=BATCH_SIZE)"
   ]
  },
  {
   "cell_type": "code",
   "execution_count": 7,
   "id": "236ccb8c",
   "metadata": {
    "ExecuteTime": {
     "end_time": "2021-11-17T08:14:22.250452Z",
     "start_time": "2021-11-17T08:14:22.171444Z"
    }
   },
   "outputs": [
    {
     "name": "stdout",
     "output_type": "stream",
     "text": [
      "Found 1023 images belonging to 4 classes.\n"
     ]
    }
   ],
   "source": [
    "val_generator = train_datagen.flow_from_directory(directory=train_dataset_dir,\n",
    "                                                  target_size=IMG_SIZE,\n",
    "                                                  color_mode=COLOR_MODE,\n",
    "                                                  class_mode='categorical',\n",
    "                                                  shuffle=True,\n",
    "                                                  subset='validation',\n",
    "                                                  batch_size=BATCH_SIZE)"
   ]
  },
  {
   "cell_type": "code",
   "execution_count": 8,
   "id": "9f98c053",
   "metadata": {
    "ExecuteTime": {
     "end_time": "2021-11-17T08:14:22.329019Z",
     "start_time": "2021-11-17T08:14:22.250452Z"
    }
   },
   "outputs": [
    {
     "name": "stdout",
     "output_type": "stream",
     "text": [
      "Found 1279 images belonging to 4 classes.\n"
     ]
    }
   ],
   "source": [
    "test_generator = test_datagen.flow_from_directory(directory=test_dataset_dir,\n",
    "                                                  target_size=IMG_SIZE,\n",
    "                                                  color_mode=COLOR_MODE,\n",
    "                                                  class_mode='categorical',\n",
    "                                                  shuffle=True,\n",
    "                                                  subset='training',\n",
    "                                                  batch_size=BATCH_SIZE)"
   ]
  },
  {
   "cell_type": "code",
   "execution_count": 9,
   "id": "158203cc",
   "metadata": {
    "ExecuteTime": {
     "end_time": "2021-11-17T08:14:23.026755Z",
     "start_time": "2021-11-17T08:14:22.332083Z"
    }
   },
   "outputs": [],
   "source": [
    "model = keras.Sequential([\n",
    "    layers.Input(shape=(*IMG_SIZE, CHANNELS)),\n",
    "    \n",
    "    preprocessing.Rescaling(scale= 1.0 / 255.0),\n",
    "    \n",
    "    layers.Conv2D(filters=32, kernel_size=3, padding='same', activation=layers.LeakyReLU()),\n",
    "    layers.Conv2D(filters=32, kernel_size=3, padding='same', activation=layers.LeakyReLU()),\n",
    "    layers.BatchNormalization(),\n",
    "    layers.MaxPooling2D(pool_size=2, strides=2),\n",
    "\n",
    "    layers.Conv2D(filters=64, kernel_size=3, padding='same', activation=layers.LeakyReLU()),\n",
    "    layers.Conv2D(filters=64, kernel_size=3, padding='same', activation=layers.LeakyReLU()),\n",
    "    layers.BatchNormalization(),\n",
    "    layers.MaxPooling2D(pool_size=2, strides=2),\n",
    "\n",
    "    layers.Conv2D(filters=128, kernel_size=3, padding='same', activation=layers.LeakyReLU()),\n",
    "    layers.Conv2D(filters=128, kernel_size=3, padding='same', activation=layers.LeakyReLU()),\n",
    "    layers.BatchNormalization(),\n",
    "    layers.MaxPooling2D(pool_size=2, strides=2),\n",
    "\n",
    "    layers.Conv2D(filters=256, kernel_size=3, padding='same', activation=layers.LeakyReLU()),\n",
    "    layers.Conv2D(filters=256, kernel_size=3, padding='same', activation=layers.LeakyReLU()),\n",
    "    layers.BatchNormalization(),\n",
    "    layers.MaxPooling2D(pool_size=2, strides=2),\n",
    "\n",
    "    layers.Conv2D(filters=256, kernel_size=3, padding='same', activation=layers.LeakyReLU()),\n",
    "    layers.Conv2D(filters=256, kernel_size=3, padding='same', activation=layers.LeakyReLU()),\n",
    "    layers.BatchNormalization(),\n",
    "    layers.MaxPooling2D(pool_size=2, strides=2),\n",
    "\n",
    "    layers.Flatten(),\n",
    "    \n",
    "    layers.Dense(units=512, activation=layers.LeakyReLU()),\n",
    "    layers.BatchNormalization(),\n",
    "    layers.Dropout(0.5),\n",
    "\n",
    "    layers.Dense(units=256, activation=layers.LeakyReLU()),\n",
    "    layers.BatchNormalization(),\n",
    "    layers.Dropout(0.3),\n",
    "\n",
    "    layers.Dense(units=128, activation=layers.LeakyReLU()),\n",
    "    layers.BatchNormalization(),\n",
    "    layers.Dropout(0.2),\n",
    "\n",
    "    layers.Dense(units=N_LABELS)\n",
    "    \n",
    "])\n",
    "\n",
    "model._name = MODEL_NAME"
   ]
  },
  {
   "cell_type": "code",
   "execution_count": 10,
   "id": "a8f08b62",
   "metadata": {
    "ExecuteTime": {
     "end_time": "2021-11-17T08:14:23.513172Z",
     "start_time": "2021-11-17T08:14:23.026755Z"
    }
   },
   "outputs": [],
   "source": [
    "lr_scheduler = keras.optimizers.schedules.InverseTimeDecay(3e-4, decay_steps=len(train_generator), decay_rate=0.5)\n",
    "\n",
    "monitor = 'val_acc'\n",
    "early_stopping = keras.callbacks.EarlyStopping(monitor=monitor, patience=PATIENCE, restore_best_weights=True)\n",
    "best_checkpoint = keras.callbacks.ModelCheckpoint(filepath=f\"{MODEL_NAME}.hdf5\",\n",
    "                                                          monitor=monitor,\n",
    "                                                          save_best_only=True,\n",
    "                                                          save_freq='epoch',\n",
    "                                                          verbose=1)\n",
    "callbacks = [early_stopping, best_checkpoint]\n",
    "\n",
    "keras.utils.plot_model(model, to_file=f\"{MODEL_NAME} Structure.png\", show_shapes=True)\n",
    "\n",
    "model.compile(loss=keras.losses.CategoricalCrossentropy(from_logits=True),\n",
    "              optimizer=keras.optimizers.Adam(learning_rate=lr_scheduler),\n",
    "              metrics=[keras.metrics.CategoricalAccuracy(name='acc')])"
   ]
  },
  {
   "cell_type": "code",
   "execution_count": 11,
   "id": "c2a0362d",
   "metadata": {
    "ExecuteTime": {
     "end_time": "2021-11-17T08:14:23.903685Z",
     "start_time": "2021-11-17T08:14:23.515167Z"
    }
   },
   "outputs": [
    {
     "data": {
      "image/png": "[encoded data removed]",
      "text/plain": [
       "<Figure size 432x288 with 1 Axes>"
      ]
     },
     "metadata": {
      "needs_background": "light"
     },
     "output_type": "display_data"
    }
   ],
   "source": [
    "plt.figure()\n",
    "plt.plot([lr_scheduler(step=x) for x in range(1, EPOCHS+1)])\n",
    "plt.title(\"Learning Rate after every epoch\")\n",
    "plt.tight_layout()\n",
    "plt.show()"
   ]
  },
  {
   "cell_type": "code",
   "execution_count": 12,
   "id": "bc88e7d4",
   "metadata": {
    "ExecuteTime": {
     "end_time": "2021-11-17T08:14:23.919328Z",
     "start_time": "2021-11-17T08:14:23.903685Z"
    }
   },
   "outputs": [
    {
     "name": "stdout",
     "output_type": "stream",
     "text": [
      "Model: \"Alzheimers_Model_2\"\n",
      "_________________________________________________________________\n",
      "Layer (type)                 Output Shape              Param #   \n",
      "=================================================================\n",
      "rescaling (Rescaling)        (None, 208, 176, 1)       0         \n",
      "_________________________________________________________________\n",
      "conv2d (Conv2D)              (None, 208, 176, 32)      320       \n",
      "_________________________________________________________________\n",
      "conv2d_1 (Conv2D)            (None, 208, 176, 32)      9248      \n",
      "_________________________________________________________________\n",
      "batch_normalization (BatchNo (None, 208, 176, 32)      128       \n",
      "_________________________________________________________________\n",
      "max_pooling2d (MaxPooling2D) (None, 104, 88, 32)       0         \n",
      "_________________________________________________________________\n",
      "conv2d_2 (Conv2D)            (None, 104, 88, 64)       18496     \n",
      "_________________________________________________________________\n",
      "conv2d_3 (Conv2D)            (None, 104, 88, 64)       36928     \n",
      "_________________________________________________________________\n",
      "batch_normalization_1 (Batch (None, 104, 88, 64)       256       \n",
      "_________________________________________________________________\n",
      "max_pooling2d_1 (MaxPooling2 (None, 52, 44, 64)        0         \n",
      "_________________________________________________________________\n",
      "conv2d_4 (Conv2D)            (None, 52, 44, 128)       73856     \n",
      "_________________________________________________________________\n",
      "conv2d_5 (Conv2D)            (None, 52, 44, 128)       147584    \n",
      "_________________________________________________________________\n",
      "batch_normalization_2 (Batch (None, 52, 44, 128)       512       \n",
      "_________________________________________________________________\n",
      "max_pooling2d_2 (MaxPooling2 (None, 26, 22, 128)       0         \n",
      "_________________________________________________________________\n",
      "conv2d_6 (Conv2D)            (None, 26, 22, 256)       295168    \n",
      "_________________________________________________________________\n",
      "conv2d_7 (Conv2D)            (None, 26, 22, 256)       590080    \n",
      "_________________________________________________________________\n",
      "batch_normalization_3 (Batch (None, 26, 22, 256)       1024      \n",
      "_________________________________________________________________\n",
      "max_pooling2d_3 (MaxPooling2 (None, 13, 11, 256)       0         \n",
      "_________________________________________________________________\n",
      "conv2d_8 (Conv2D)            (None, 13, 11, 256)       590080    \n",
      "_________________________________________________________________\n",
      "conv2d_9 (Conv2D)            (None, 13, 11, 256)       590080    \n",
      "_________________________________________________________________\n",
      "batch_normalization_4 (Batch (None, 13, 11, 256)       1024      \n",
      "_________________________________________________________________\n",
      "max_pooling2d_4 (MaxPooling2 (None, 6, 5, 256)         0         \n",
      "_________________________________________________________________\n",
      "flatten (Flatten)            (None, 7680)              0         \n",
      "_________________________________________________________________\n",
      "dense (Dense)                (None, 512)               3932672   \n",
      "_________________________________________________________________\n",
      "batch_normalization_5 (Batch (None, 512)               2048      \n",
      "_________________________________________________________________\n",
      "dropout (Dropout)            (None, 512)               0         \n",
      "_________________________________________________________________\n",
      "dense_1 (Dense)              (None, 256)               131328    \n",
      "_________________________________________________________________\n",
      "batch_normalization_6 (Batch (None, 256)               1024      \n",
      "_________________________________________________________________\n",
      "dropout_1 (Dropout)          (None, 256)               0         \n",
      "_________________________________________________________________\n",
      "dense_2 (Dense)              (None, 128)               32896     \n",
      "_________________________________________________________________\n",
      "batch_normalization_7 (Batch (None, 128)               512       \n",
      "_________________________________________________________________\n",
      "dropout_2 (Dropout)          (None, 128)               0         \n",
      "_________________________________________________________________\n",
      "dense_3 (Dense)              (None, 4)                 516       \n",
      "=================================================================\n",
      "Total params: 6,455,780\n",
      "Trainable params: 6,452,516\n",
      "Non-trainable params: 3,264\n",
      "_________________________________________________________________\n"
     ]
    }
   ],
   "source": [
    "model.summary()"
   ]
  },
  {
   "cell_type": "code",
   "execution_count": 13,
   "id": "fe9f3afa",
   "metadata": {
    "ExecuteTime": {
     "end_time": "2021-11-17T08:57:21.417526Z",
     "start_time": "2021-11-17T08:14:23.919328Z"
    },
    "scrolled": false
   },
   "outputs": [
    {
     "name": "stdout",
     "output_type": "stream",
     "text": [
      "Epoch 1/500\n",
      "257/257 [==============================] - 38s 125ms/step - loss: 1.3218 - acc: 0.5063 - val_loss: 1.6646 - val_acc: 0.5005\n",
      "\n",
      "Epoch 00001: val_acc improved from -inf to 0.50049, saving model to Alzheimers_Model_2.hdf5\n",
      "Epoch 2/500\n",
      "257/257 [==============================] - 30s 116ms/step - loss: 1.0863 - acc: 0.5705 - val_loss: 3.5749 - val_acc: 0.3500\n",
      "\n",
      "Epoch 00002: val_acc did not improve from 0.50049\n",
      "Epoch 3/500\n",
      "257/257 [==============================] - 30s 115ms/step - loss: 0.8576 - acc: 0.6840 - val_loss: 2.9115 - val_acc: 0.3460\n",
      "\n",
      "Epoch 00003: val_acc did not improve from 0.50049\n",
      "Epoch 4/500\n",
      "257/257 [==============================] - 30s 115ms/step - loss: 0.6828 - acc: 0.7421 - val_loss: 3.3037 - val_acc: 0.3587\n",
      "\n",
      "Epoch 00004: val_acc did not improve from 0.50049\n",
      "Epoch 5/500\n",
      "257/257 [==============================] - 29s 115ms/step - loss: 0.6026 - acc: 0.7831 - val_loss: 1.5273 - val_acc: 0.3969\n",
      "\n",
      "Epoch 00005: val_acc did not improve from 0.50049\n",
      "Epoch 6/500\n",
      "257/257 [==============================] - 30s 115ms/step - loss: 0.5229 - acc: 0.8065 - val_loss: 1.3251 - val_acc: 0.5943\n",
      "\n",
      "Epoch 00006: val_acc improved from 0.50049 to 0.59433, saving model to Alzheimers_Model_2.hdf5\n",
      "Epoch 7/500\n",
      "257/257 [==============================] - 30s 115ms/step - loss: 0.4761 - acc: 0.8197 - val_loss: 1.2459 - val_acc: 0.6364\n",
      "\n",
      "Epoch 00007: val_acc improved from 0.59433 to 0.63636, saving model to Alzheimers_Model_2.hdf5\n",
      "Epoch 8/500\n",
      "257/257 [==============================] - 29s 115ms/step - loss: 0.2435 - acc: 0.9214 - val_loss: 0.7955 - val_acc: 0.6940\n",
      "\n",
      "Epoch 00008: val_acc improved from 0.63636 to 0.69404, saving model to Alzheimers_Model_2.hdf5\n",
      "Epoch 9/500\n",
      "257/257 [==============================] - 30s 116ms/step - loss: 0.1628 - acc: 0.9485 - val_loss: 1.7513 - val_acc: 0.5259\n",
      "\n",
      "Epoch 00009: val_acc did not improve from 0.69404\n",
      "Epoch 10/500\n",
      "257/257 [==============================] - 30s 115ms/step - loss: 0.1429 - acc: 0.9558 - val_loss: 6.6432 - val_acc: 0.5396\n",
      "\n",
      "Epoch 00010: val_acc did not improve from 0.69404\n",
      "Epoch 11/500\n",
      "257/257 [==============================] - 30s 115ms/step - loss: 0.1719 - acc: 0.9468 - val_loss: 2.0070 - val_acc: 0.5357\n",
      "\n",
      "Epoch 00011: val_acc did not improve from 0.69404\n",
      "Epoch 12/500\n",
      "257/257 [==============================] - 30s 115ms/step - loss: 0.0979 - acc: 0.9732 - val_loss: 1.0751 - val_acc: 0.6901\n",
      "\n",
      "Epoch 00012: val_acc did not improve from 0.69404\n",
      "Epoch 13/500\n",
      "257/257 [==============================] - 29s 115ms/step - loss: 0.1321 - acc: 0.9610 - val_loss: 1.3079 - val_acc: 0.6510\n",
      "\n",
      "Epoch 00013: val_acc did not improve from 0.69404\n",
      "Epoch 14/500\n",
      "257/257 [==============================] - 30s 115ms/step - loss: 0.1959 - acc: 0.9383 - val_loss: 1.4230 - val_acc: 0.5455\n",
      "\n",
      "Epoch 00014: val_acc did not improve from 0.69404\n",
      "Epoch 15/500\n",
      "257/257 [==============================] - 30s 115ms/step - loss: 0.1576 - acc: 0.9488 - val_loss: 1.1151 - val_acc: 0.6823\n",
      "\n",
      "Epoch 00015: val_acc did not improve from 0.69404\n",
      "Epoch 16/500\n",
      "257/257 [==============================] - 29s 115ms/step - loss: 0.0925 - acc: 0.9746 - val_loss: 0.5517 - val_acc: 0.8016\n",
      "\n",
      "Epoch 00016: val_acc improved from 0.69404 to 0.80156, saving model to Alzheimers_Model_2.hdf5\n",
      "Epoch 17/500\n",
      "257/257 [==============================] - 29s 115ms/step - loss: 0.0984 - acc: 0.9673 - val_loss: 0.7457 - val_acc: 0.7634\n",
      "\n",
      "Epoch 00017: val_acc did not improve from 0.80156\n",
      "Epoch 18/500\n",
      "257/257 [==============================] - 30s 116ms/step - loss: 0.0749 - acc: 0.9758 - val_loss: 0.6978 - val_acc: 0.7957\n",
      "\n",
      "Epoch 00018: val_acc did not improve from 0.80156\n",
      "Epoch 19/500\n",
      "257/257 [==============================] - 30s 115ms/step - loss: 0.0592 - acc: 0.9846 - val_loss: 0.6997 - val_acc: 0.7928\n",
      "\n",
      "Epoch 00019: val_acc did not improve from 0.80156\n",
      "Epoch 20/500\n",
      "257/257 [==============================] - 30s 115ms/step - loss: 0.0574 - acc: 0.9824 - val_loss: 0.5555 - val_acc: 0.8221\n",
      "\n",
      "Epoch 00020: val_acc improved from 0.80156 to 0.82209, saving model to Alzheimers_Model_2.hdf5\n",
      "Epoch 21/500\n",
      "257/257 [==============================] - 29s 115ms/step - loss: 0.0420 - acc: 0.9895 - val_loss: 0.4904 - val_acc: 0.8182\n",
      "\n",
      "Epoch 00021: val_acc did not improve from 0.82209\n",
      "Epoch 22/500\n",
      "257/257 [==============================] - 30s 116ms/step - loss: 0.0882 - acc: 0.9756 - val_loss: 1.1470 - val_acc: 0.7302\n",
      "\n",
      "Epoch 00022: val_acc did not improve from 0.82209\n",
      "Epoch 23/500\n",
      "257/257 [==============================] - 29s 115ms/step - loss: 0.0945 - acc: 0.9712 - val_loss: 0.7837 - val_acc: 0.7468\n",
      "\n",
      "Epoch 00023: val_acc did not improve from 0.82209\n",
      "Epoch 24/500\n",
      "257/257 [==============================] - 29s 115ms/step - loss: 0.0856 - acc: 0.9744 - val_loss: 1.1064 - val_acc: 0.6745\n",
      "\n",
      "Epoch 00024: val_acc did not improve from 0.82209\n",
      "Epoch 25/500\n",
      "257/257 [==============================] - 30s 116ms/step - loss: 0.1121 - acc: 0.9675 - val_loss: 0.5718 - val_acc: 0.8006\n",
      "\n",
      "Epoch 00025: val_acc did not improve from 0.82209\n",
      "Epoch 26/500\n",
      "257/257 [==============================] - 30s 116ms/step - loss: 0.1068 - acc: 0.9673 - val_loss: 0.6677 - val_acc: 0.7791\n",
      "\n",
      "Epoch 00026: val_acc did not improve from 0.82209\n",
      "Epoch 27/500\n",
      "257/257 [==============================] - 29s 115ms/step - loss: 0.0742 - acc: 0.9797 - val_loss: 0.6187 - val_acc: 0.7869\n",
      "\n",
      "Epoch 00027: val_acc did not improve from 0.82209\n",
      "Epoch 28/500\n",
      "257/257 [==============================] - 30s 115ms/step - loss: 0.0583 - acc: 0.9837 - val_loss: 0.5851 - val_acc: 0.8055\n",
      "\n",
      "Epoch 00028: val_acc did not improve from 0.82209\n",
      "Epoch 29/500\n",
      "257/257 [==============================] - 29s 115ms/step - loss: 0.0647 - acc: 0.9788 - val_loss: 0.6050 - val_acc: 0.7977\n",
      "\n",
      "Epoch 00029: val_acc did not improve from 0.82209\n",
      "Epoch 30/500\n",
      "257/257 [==============================] - 30s 115ms/step - loss: 0.0621 - acc: 0.9827 - val_loss: 0.5634 - val_acc: 0.8094\n",
      "\n",
      "Epoch 00030: val_acc did not improve from 0.82209\n",
      "Epoch 31/500\n",
      "257/257 [==============================] - 30s 116ms/step - loss: 0.0437 - acc: 0.9883 - val_loss: 0.5011 - val_acc: 0.8280\n",
      "\n",
      "Epoch 00031: val_acc improved from 0.82209 to 0.82796, saving model to Alzheimers_Model_2.hdf5\n",
      "Epoch 32/500\n",
      "257/257 [==============================] - 30s 115ms/step - loss: 0.0424 - acc: 0.9898 - val_loss: 0.4862 - val_acc: 0.8358\n",
      "\n",
      "Epoch 00032: val_acc improved from 0.82796 to 0.83578, saving model to Alzheimers_Model_2.hdf5\n",
      "Epoch 33/500\n",
      "257/257 [==============================] - 29s 115ms/step - loss: 0.0335 - acc: 0.9912 - val_loss: 0.4902 - val_acc: 0.8338\n",
      "\n",
      "Epoch 00033: val_acc did not improve from 0.83578\n",
      "Epoch 34/500\n",
      "257/257 [==============================] - 30s 115ms/step - loss: 0.0439 - acc: 0.9856 - val_loss: 0.5044 - val_acc: 0.8260\n",
      "\n",
      "Epoch 00034: val_acc did not improve from 0.83578\n",
      "Epoch 35/500\n",
      "257/257 [==============================] - 33s 127ms/step - loss: 0.0361 - acc: 0.9900 - val_loss: 0.5083 - val_acc: 0.8231\n",
      "\n",
      "Epoch 00035: val_acc did not improve from 0.83578\n",
      "Epoch 36/500\n",
      "257/257 [==============================] - 30s 116ms/step - loss: 0.0336 - acc: 0.9910 - val_loss: 0.4645 - val_acc: 0.8280\n",
      "\n",
      "Epoch 00036: val_acc did not improve from 0.83578\n",
      "Epoch 37/500\n",
      "257/257 [==============================] - 29s 115ms/step - loss: 0.0423 - acc: 0.9856 - val_loss: 0.9847 - val_acc: 0.7263\n",
      "\n",
      "Epoch 00037: val_acc did not improve from 0.83578\n",
      "Epoch 38/500\n",
      "257/257 [==============================] - 30s 115ms/step - loss: 0.0387 - acc: 0.9895 - val_loss: 1.0740 - val_acc: 0.7253\n",
      "\n",
      "Epoch 00038: val_acc did not improve from 0.83578\n",
      "Epoch 39/500\n",
      "257/257 [==============================] - 30s 115ms/step - loss: 0.0408 - acc: 0.9880 - val_loss: 0.9741 - val_acc: 0.7517\n",
      "\n",
      "Epoch 00039: val_acc did not improve from 0.83578\n",
      "Epoch 40/500\n",
      "257/257 [==============================] - 30s 115ms/step - loss: 0.0956 - acc: 0.9702 - val_loss: 0.5111 - val_acc: 0.8192\n",
      "\n",
      "Epoch 00040: val_acc did not improve from 0.83578\n",
      "Epoch 41/500\n",
      "257/257 [==============================] - 30s 115ms/step - loss: 0.0664 - acc: 0.9832 - val_loss: 0.4519 - val_acc: 0.8436\n",
      "\n",
      "Epoch 00041: val_acc improved from 0.83578 to 0.84360, saving model to Alzheimers_Model_2.hdf5\n",
      "Epoch 42/500\n",
      "257/257 [==============================] - 30s 117ms/step - loss: 0.0762 - acc: 0.9778 - val_loss: 0.5542 - val_acc: 0.8211\n",
      "\n",
      "Epoch 00042: val_acc did not improve from 0.84360\n",
      "Epoch 43/500\n",
      "257/257 [==============================] - 30s 115ms/step - loss: 0.0491 - acc: 0.9863 - val_loss: 0.4840 - val_acc: 0.8289\n",
      "\n",
      "Epoch 00043: val_acc did not improve from 0.84360\n",
      "Epoch 44/500\n",
      "257/257 [==============================] - 30s 115ms/step - loss: 0.0372 - acc: 0.9883 - val_loss: 0.4449 - val_acc: 0.8407\n",
      "\n",
      "Epoch 00044: val_acc did not improve from 0.84360\n",
      "Epoch 45/500\n",
      "257/257 [==============================] - 29s 115ms/step - loss: 0.0369 - acc: 0.9895 - val_loss: 0.5073 - val_acc: 0.8358\n",
      "\n",
      "Epoch 00045: val_acc did not improve from 0.84360\n",
      "Epoch 46/500\n",
      "257/257 [==============================] - 30s 115ms/step - loss: 0.0363 - acc: 0.9885 - val_loss: 0.5100 - val_acc: 0.8299\n",
      "\n",
      "Epoch 00046: val_acc did not improve from 0.84360\n",
      "Epoch 47/500\n",
      "257/257 [==============================] - 29s 115ms/step - loss: 0.0279 - acc: 0.9939 - val_loss: 0.4034 - val_acc: 0.8573\n",
      "\n",
      "Epoch 00047: val_acc improved from 0.84360 to 0.85728, saving model to Alzheimers_Model_2.hdf5\n",
      "Epoch 48/500\n",
      "257/257 [==============================] - 30s 116ms/step - loss: 0.0321 - acc: 0.9919 - val_loss: 0.4221 - val_acc: 0.8592\n",
      "\n",
      "Epoch 00048: val_acc improved from 0.85728 to 0.85924, saving model to Alzheimers_Model_2.hdf5\n",
      "Epoch 49/500\n",
      "257/257 [==============================] - 29s 115ms/step - loss: 0.0321 - acc: 0.9907 - val_loss: 0.4887 - val_acc: 0.8387\n",
      "\n",
      "Epoch 00049: val_acc did not improve from 0.85924\n",
      "Epoch 50/500\n",
      "257/257 [==============================] - 31s 120ms/step - loss: 0.0277 - acc: 0.9932 - val_loss: 0.3939 - val_acc: 0.8651\n",
      "\n",
      "Epoch 00050: val_acc improved from 0.85924 to 0.86510, saving model to Alzheimers_Model_2.hdf5\n",
      "Epoch 51/500\n",
      "257/257 [==============================] - 32s 124ms/step - loss: 0.0201 - acc: 0.9961 - val_loss: 0.3945 - val_acc: 0.8661\n",
      "\n",
      "Epoch 00051: val_acc improved from 0.86510 to 0.86608, saving model to Alzheimers_Model_2.hdf5\n",
      "Epoch 52/500\n",
      "257/257 [==============================] - 34s 131ms/step - loss: 0.0245 - acc: 0.9929 - val_loss: 0.4358 - val_acc: 0.8524\n",
      "\n",
      "Epoch 00052: val_acc did not improve from 0.86608\n",
      "Epoch 53/500\n",
      "257/257 [==============================] - 31s 120ms/step - loss: 0.0227 - acc: 0.9941 - val_loss: 0.4135 - val_acc: 0.8573\n",
      "\n",
      "Epoch 00053: val_acc did not improve from 0.86608\n",
      "Epoch 54/500\n",
      "257/257 [==============================] - 34s 131ms/step - loss: 0.0213 - acc: 0.9954 - val_loss: 0.4372 - val_acc: 0.8563\n",
      "\n",
      "Epoch 00054: val_acc did not improve from 0.86608\n",
      "Epoch 55/500\n",
      "257/257 [==============================] - 31s 121ms/step - loss: 0.0221 - acc: 0.9934 - val_loss: 0.3944 - val_acc: 0.8690\n",
      "\n",
      "Epoch 00055: val_acc improved from 0.86608 to 0.86901, saving model to Alzheimers_Model_2.hdf5\n",
      "Epoch 56/500\n",
      "257/257 [==============================] - 31s 121ms/step - loss: 0.0266 - acc: 0.9927 - val_loss: 0.4355 - val_acc: 0.8641\n",
      "\n",
      "Epoch 00056: val_acc did not improve from 0.86901\n",
      "Epoch 57/500\n",
      "257/257 [==============================] - 31s 120ms/step - loss: 0.0191 - acc: 0.9961 - val_loss: 0.4920 - val_acc: 0.8495\n",
      "\n",
      "Epoch 00057: val_acc did not improve from 0.86901\n",
      "Epoch 58/500\n",
      "257/257 [==============================] - 30s 116ms/step - loss: 0.0220 - acc: 0.9939 - val_loss: 0.3325 - val_acc: 0.8866\n",
      "\n",
      "Epoch 00058: val_acc improved from 0.86901 to 0.88661, saving model to Alzheimers_Model_2.hdf5\n",
      "Epoch 59/500\n",
      "257/257 [==============================] - 32s 124ms/step - loss: 0.0252 - acc: 0.9929 - val_loss: 0.3713 - val_acc: 0.8759\n",
      "\n",
      "Epoch 00059: val_acc did not improve from 0.88661\n",
      "Epoch 60/500\n",
      "257/257 [==============================] - 39s 150ms/step - loss: 0.0222 - acc: 0.9949 - val_loss: 0.3283 - val_acc: 0.8935\n",
      "\n",
      "Epoch 00060: val_acc improved from 0.88661 to 0.89345, saving model to Alzheimers_Model_2.hdf5\n",
      "Epoch 61/500\n",
      "257/257 [==============================] - 31s 120ms/step - loss: 0.0202 - acc: 0.9954 - val_loss: 0.3802 - val_acc: 0.8837\n",
      "\n",
      "Epoch 00061: val_acc did not improve from 0.89345\n",
      "Epoch 62/500\n",
      "257/257 [==============================] - 30s 116ms/step - loss: 0.0219 - acc: 0.9939 - val_loss: 0.3755 - val_acc: 0.8798\n",
      "\n",
      "Epoch 00062: val_acc did not improve from 0.89345\n",
      "Epoch 63/500\n",
      "257/257 [==============================] - 33s 128ms/step - loss: 0.0179 - acc: 0.9956 - val_loss: 1.7703 - val_acc: 0.6413\n",
      "\n",
      "Epoch 00063: val_acc did not improve from 0.89345\n",
      "Epoch 64/500\n",
      "257/257 [==============================] - 43s 169ms/step - loss: 0.0226 - acc: 0.9932 - val_loss: 1.2959 - val_acc: 0.7116\n",
      "\n",
      "Epoch 00064: val_acc did not improve from 0.89345\n",
      "Epoch 65/500\n",
      "257/257 [==============================] - 43s 169ms/step - loss: 0.0246 - acc: 0.9944 - val_loss: 0.4337 - val_acc: 0.8612\n",
      "\n",
      "Epoch 00065: val_acc did not improve from 0.89345\n",
      "Epoch 66/500\n",
      "257/257 [==============================] - 34s 132ms/step - loss: 0.0373 - acc: 0.9893 - val_loss: 0.5023 - val_acc: 0.8456\n",
      "\n",
      "Epoch 00066: val_acc did not improve from 0.89345\n",
      "Epoch 67/500\n",
      "257/257 [==============================] - 38s 147ms/step - loss: 0.0264 - acc: 0.9934 - val_loss: 0.3931 - val_acc: 0.8690\n",
      "\n",
      "Epoch 00067: val_acc did not improve from 0.89345\n",
      "Epoch 68/500\n",
      "257/257 [==============================] - 37s 143ms/step - loss: 0.0249 - acc: 0.9929 - val_loss: 0.4534 - val_acc: 0.8690\n",
      "\n",
      "Epoch 00068: val_acc did not improve from 0.89345\n",
      "Epoch 69/500\n",
      "257/257 [==============================] - 41s 161ms/step - loss: 0.0260 - acc: 0.9929 - val_loss: 0.4072 - val_acc: 0.8700\n",
      "\n",
      "Epoch 00069: val_acc did not improve from 0.89345\n",
      "Epoch 70/500\n",
      "257/257 [==============================] - 41s 160ms/step - loss: 0.0143 - acc: 0.9968 - val_loss: 0.3778 - val_acc: 0.8710\n",
      "\n",
      "Epoch 00070: val_acc did not improve from 0.89345\n",
      "Epoch 71/500\n",
      "257/257 [==============================] - 43s 169ms/step - loss: 0.0193 - acc: 0.9956 - val_loss: 0.4233 - val_acc: 0.8631\n",
      "\n",
      "Epoch 00071: val_acc did not improve from 0.89345\n",
      "Epoch 72/500\n",
      "257/257 [==============================] - 43s 169ms/step - loss: 0.0157 - acc: 0.9961 - val_loss: 0.3844 - val_acc: 0.8729\n",
      "\n",
      "Epoch 00072: val_acc did not improve from 0.89345\n",
      "Epoch 73/500\n",
      "257/257 [==============================] - 36s 140ms/step - loss: 0.0164 - acc: 0.9949 - val_loss: 0.5094 - val_acc: 0.8495\n",
      "\n",
      "Epoch 00073: val_acc did not improve from 0.89345\n",
      "Epoch 74/500\n",
      "257/257 [==============================] - 37s 143ms/step - loss: 0.0165 - acc: 0.9951 - val_loss: 0.5629 - val_acc: 0.8299\n",
      "\n",
      "Epoch 00074: val_acc did not improve from 0.89345\n",
      "Epoch 75/500\n",
      "257/257 [==============================] - 37s 144ms/step - loss: 0.0217 - acc: 0.9951 - val_loss: 0.3877 - val_acc: 0.8749\n",
      "\n",
      "Epoch 00075: val_acc did not improve from 0.89345\n",
      "Epoch 76/500\n",
      "257/257 [==============================] - 34s 132ms/step - loss: 0.0168 - acc: 0.9963 - val_loss: 0.4194 - val_acc: 0.8710\n",
      "\n",
      "Epoch 00076: val_acc did not improve from 0.89345\n",
      "Epoch 77/500\n",
      "257/257 [==============================] - 37s 142ms/step - loss: 0.0187 - acc: 0.9949 - val_loss: 0.3519 - val_acc: 0.8876\n",
      "\n",
      "Epoch 00077: val_acc did not improve from 0.89345\n",
      "Epoch 78/500\n",
      "257/257 [==============================] - 34s 132ms/step - loss: 0.0177 - acc: 0.9954 - val_loss: 0.4352 - val_acc: 0.8661\n",
      "\n",
      "Epoch 00078: val_acc did not improve from 0.89345\n",
      "Epoch 79/500\n",
      "257/257 [==============================] - 37s 143ms/step - loss: 0.0152 - acc: 0.9966 - val_loss: 0.3839 - val_acc: 0.8778\n",
      "\n",
      "Epoch 00079: val_acc did not improve from 0.89345\n",
      "Epoch 80/500\n",
      "257/257 [==============================] - 35s 137ms/step - loss: 0.0128 - acc: 0.9971 - val_loss: 0.3303 - val_acc: 0.8905\n",
      "\n",
      "Epoch 00080: val_acc did not improve from 0.89345\n"
     ]
    }
   ],
   "source": [
    "train = model.fit(train_generator,\n",
    "                  epochs=EPOCHS,\n",
    "                  verbose=1,\n",
    "                  workers=-1,\n",
    "                  use_multiprocessing=True,\n",
    "                  validation_data=val_generator,\n",
    "                  callbacks=callbacks)"
   ]
  },
  {
   "cell_type": "code",
   "execution_count": 14,
   "id": "eee72c43",
   "metadata": {
    "ExecuteTime": {
     "end_time": "2021-11-17T08:57:21.924938Z",
     "start_time": "2021-11-17T08:57:21.419522Z"
    }
   },
   "outputs": [],
   "source": [
    "model = keras.models.load_model(f\"{MODEL_NAME}.hdf5\")"
   ]
  },
  {
   "cell_type": "code",
   "execution_count": 15,
   "id": "77e24a72",
   "metadata": {
    "ExecuteTime": {
     "end_time": "2021-11-17T08:57:34.857462Z",
     "start_time": "2021-11-17T08:57:21.927945Z"
    }
   },
   "outputs": [
    {
     "name": "stdout",
     "output_type": "stream",
     "text": [
      "80/80 [==============================] - 13s 155ms/step - loss: 1.2776 - acc: 0.6787\n"
     ]
    }
   ],
   "source": [
    "test = model.evaluate(test_generator,\n",
    "                      workers=-1,\n",
    "                      use_multiprocessing=True,\n",
    "                      verbose=1)"
   ]
  },
  {
   "cell_type": "code",
   "execution_count": 16,
   "id": "b783dedc",
   "metadata": {
    "ExecuteTime": {
     "end_time": "2021-11-17T08:57:34.889463Z",
     "start_time": "2021-11-17T08:57:34.859462Z"
    }
   },
   "outputs": [
    {
     "data": {
      "text/html": [
       "<div>\n",
       "<style scoped>\n",
       "    .dataframe tbody tr th:only-of-type {\n",
       "        vertical-align: middle;\n",
       "    }\n",
       "\n",
       "    .dataframe tbody tr th {\n",
       "        vertical-align: top;\n",
       "    }\n",
       "\n",
       "    .dataframe thead th {\n",
       "        text-align: right;\n",
       "    }\n",
       "</style>\n",
       "<table border=\"1\" class=\"dataframe\">\n",
       "  <thead>\n",
       "    <tr style=\"text-align: right;\">\n",
       "      <th></th>\n",
       "      <th>loss</th>\n",
       "      <th>acc</th>\n",
       "      <th>val_loss</th>\n",
       "      <th>val_acc</th>\n",
       "    </tr>\n",
       "  </thead>\n",
       "  <tbody>\n",
       "    <tr>\n",
       "      <th>0</th>\n",
       "      <td>1.321823</td>\n",
       "      <td>0.506345</td>\n",
       "      <td>1.664609</td>\n",
       "      <td>0.500489</td>\n",
       "    </tr>\n",
       "    <tr>\n",
       "      <th>1</th>\n",
       "      <td>1.086297</td>\n",
       "      <td>0.570522</td>\n",
       "      <td>3.574944</td>\n",
       "      <td>0.349951</td>\n",
       "    </tr>\n",
       "    <tr>\n",
       "      <th>2</th>\n",
       "      <td>0.857579</td>\n",
       "      <td>0.683992</td>\n",
       "      <td>2.911538</td>\n",
       "      <td>0.346041</td>\n",
       "    </tr>\n",
       "    <tr>\n",
       "      <th>3</th>\n",
       "      <td>0.682847</td>\n",
       "      <td>0.742069</td>\n",
       "      <td>3.303733</td>\n",
       "      <td>0.358749</td>\n",
       "    </tr>\n",
       "    <tr>\n",
       "      <th>4</th>\n",
       "      <td>0.602625</td>\n",
       "      <td>0.783065</td>\n",
       "      <td>1.527294</td>\n",
       "      <td>0.396872</td>\n",
       "    </tr>\n",
       "  </tbody>\n",
       "</table>\n",
       "</div>"
      ],
      "text/plain": [
       "       loss       acc  val_loss   val_acc\n",
       "0  1.321823  0.506345  1.664609  0.500489\n",
       "1  1.086297  0.570522  3.574944  0.349951\n",
       "2  0.857579  0.683992  2.911538  0.346041\n",
       "3  0.682847  0.742069  3.303733  0.358749\n",
       "4  0.602625  0.783065  1.527294  0.396872"
      ]
     },
     "execution_count": 16,
     "metadata": {},
     "output_type": "execute_result"
    }
   ],
   "source": [
    "train_history = pd.DataFrame(train.history)\n",
    "train_history.head()"
   ]
  },
  {
   "cell_type": "code",
   "execution_count": 17,
   "id": "995f2ac8",
   "metadata": {
    "ExecuteTime": {
     "end_time": "2021-11-17T08:57:35.205488Z",
     "start_time": "2021-11-17T08:57:34.891463Z"
    }
   },
   "outputs": [
    {
     "data": {
      "image/png": "[encoded data removed]",
      "text/plain": [
       "<Figure size 576x432 with 2 Axes>"
      ]
     },
     "metadata": {
      "needs_background": "light"
     },
     "output_type": "display_data"
    }
   ],
   "source": [
    "fig, ax = plt.subplots(2, 1, figsize=(8, 6))\n",
    "ax[0].plot(train_history['acc'], label='acc')\n",
    "ax[0].plot(train_history['val_acc'], label='val_acc')\n",
    "ax[0].fill_between(x=train_history.index, y1=train_history['acc'], y2=train_history['val_acc'], alpha=0.15)\n",
    "ax[0].axhline(test[1], color='black', label='test acc', linestyle='--')\n",
    "ax[0].legend(loc='best')\n",
    "ax[0].margins(x=0.01, y=0.01)\n",
    "ax[0].set_title('accuracy per epoch during training')\n",
    "\n",
    "ax[1].plot(train_history['loss'], label='loss')\n",
    "ax[1].plot(train_history['val_loss'], label='val_loss')\n",
    "ax[1].fill_between(x=train_history.index, y1=train_history['loss'], y2=train_history['val_loss'], alpha=0.15)\n",
    "ax[1].axhline(test[0], color='black', label='test loss', linestyle='--')\n",
    "ax[1].legend(loc='best')\n",
    "ax[1].margins(x=0.01, y=0.01)\n",
    "ax[1].set_title('loss per epoch during training')\n",
    "\n",
    "plt.suptitle(f\"Test stats:\\nLoss: {round(test[0], 4)} \\nAcc: {round(test[1], 4)}\")\n",
    "plt.tight_layout()\n",
    "plt.show()"
   ]
  }
 ],
 "metadata": {
  "kernelspec": {
   "display_name": "Python 3 (ipykernel)",
   "language": "python",
   "name": "python3"
  },
  "language_info": {
   "codemirror_mode": {
    "name": "ipython",
    "version": 3
   },
   "file_extension": ".py",
   "mimetype": "text/x-python",
   "name": "python",
   "nbconvert_exporter": "python",
   "pygments_lexer": "ipython3",
   "version": "3.9.9"
  },
  "toc": {
   "base_numbering": 1,
   "nav_menu": {},
   "number_sections": true,
   "sideBar": true,
   "skip_h1_title": false,
   "title_cell": "Table of Contents",
   "title_sidebar": "Contents",
   "toc_cell": false,
   "toc_position": {},
   "toc_section_display": true,
   "toc_window_display": false
  }
 },
 "nbformat": 4,
 "nbformat_minor": 5
}
